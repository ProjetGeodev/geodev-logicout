{
 "cells": [
  {
   "attachments": {},
   "cell_type": "markdown",
   "metadata": {},
   "source": [
    "# Convex hull as an index to support an algorithm for the mutualisation of itineraires - to see it renderd visit https://nbviewer.org/github/Universite-Gustave-Eiffel/geodev-logicout/blob/Thiago/notebooks/convex_hull.ipynb"
   ]
  },
  {
   "cell_type": "code",
   "execution_count": 199,
   "metadata": {},
   "outputs": [],
   "source": [
    "import sys  \n",
    "sys.path.insert(0, '../scripts')\n",
    "import use_data, IsInclude\n",
    "from shapely import wkt\n",
    "import geopandas as gpd"
   ]
  },
  {
   "cell_type": "code",
   "execution_count": 200,
   "metadata": {},
   "outputs": [],
   "source": [
    "# we initialize the parameters for the geodataframe\n",
    "filename = \"simulations_reel_gdf.csv\"\n",
    "gdf = use_data.create_gdf(filename,'itineraire')\n",
    "dist = 100000"
   ]
  },
  {
   "cell_type": "code",
   "execution_count": 202,
   "metadata": {},
   "outputs": [
    {
     "name": "stdout",
     "output_type": "stream",
     "text": [
      "41\n",
      "6.430656934306569\n"
     ]
    }
   ],
   "source": [
    "n = gdf.shape[0]\n",
    "max = 0 # nombre maximum d'étapes dans une tournée\n",
    "mean = 0 # nombre moyen d'étapes dans une tournée\n",
    "for i in range(n):\n",
    "    tournee = gdf.iloc[[i]]\n",
    "    linestring = tournee['geometry']\n",
    "    points = linestring.apply(use_data.line_to_points).explode()\n",
    "    m = len(points)\n",
    "    mean += m\n",
    "    if m > max:\n",
    "        max = m\n",
    "mean = mean / n\n",
    "print(max)\n",
    "print(mean)\n",
    "\n",
    "\n"
   ]
  }
 ],
 "metadata": {
  "kernelspec": {
   "display_name": "Python 3",
   "language": "python",
   "name": "python3"
  },
  "language_info": {
   "codemirror_mode": {
    "name": "ipython",
    "version": 3
   },
   "file_extension": ".py",
   "mimetype": "text/x-python",
   "name": "python",
   "nbconvert_exporter": "python",
   "pygments_lexer": "ipython3",
   "version": "3.11.2"
  },
  "orig_nbformat": 4
 },
 "nbformat": 4,
 "nbformat_minor": 2
}
